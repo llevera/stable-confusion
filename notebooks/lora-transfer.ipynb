{
 "cells": [
  {
   "cell_type": "code",
   "execution_count": null,
   "id": "5c58cf31-091c-462c-a2fa-320a49212f9d",
   "metadata": {},
   "outputs": [],
   "source": [
    "from diffusers import DiffusionPipeline\n",
    "import torch\n",
    "import sys\n",
    "sys.path.append('.')\n",
    "from utils.load_util import load_pipe\n",
    "\n",
    "\n",
    "\n",
    "weights_dtype = torch.bfloat16\n",
    "device = 'cuda:0'\n",
    "\n",
    "\n",
    "\n",
    "pipe = load_pipe(distillation_type=None, weights_dtype=weights_dtype, device=device)\n",
    "\n",
    "# pipe.load_lora_weights(\"nerijs/pixel-art-xl\", weight_name=\"pixel-art-xl.safetensors\", adapter_name=\"pixel\")\n",
    "# pipe.set_adapters(\"pixel\")\n",
    "\n",
    "pipe.load_lora_weights(\"alvdansen/midsommarcartoon\")\n",
    "\n",
    "pipe.to(device, weights_dtype)\n",
    "print('loaded')"
   ]
  },
  {
   "cell_type": "code",
   "execution_count": null,
   "id": "9a3fc164-262a-4b85-babe-866292090a4c",
   "metadata": {},
   "outputs": [],
   "source": [
    "# pipe.enable_lora()\n",
    "\n",
    "# lora_scale = 1\n",
    "# prompt = \"image of a car, pixel art\"\n",
    "# image = pipe(prompt, num_inference_steps=20, cross_attention_kwargs={\"scale\": lora_scale},).images[0]\n",
    "# image\n",
    "\n",
    "prompt = \"a girl with blonde-brown hair and big round glasses, blue eyes, white t shirt, jeans\"\n",
    "image = pipe(prompt, negative_prompt='ugly, messy, bad, photo', num_inference_steps=20)[0]\n",
    "image"
   ]
  },
  {
   "cell_type": "markdown",
   "id": "e8686f5f-9b19-4108-aa79-cf372551ae97",
   "metadata": {},
   "source": [
    "# Transfer to SDXL Turbo"
   ]
  },
  {
   "cell_type": "code",
   "execution_count": null,
   "id": "2dfa40b9-8e96-4d20-b644-3c2146a15478",
   "metadata": {},
   "outputs": [],
   "source": [
    "from diffusers import DiffusionPipeline\n",
    "import torch\n",
    "import sys\n",
    "sys.path.append('.')\n",
    "from utils.load_util import load_pipe\n",
    "\n",
    "\n",
    "\n",
    "weights_dtype = torch.bfloat16\n",
    "device = 'cuda:0'\n",
    "\n",
    "\n",
    "\n",
    "pipe = load_pipe(distillation_type='lightning', weights_dtype=weights_dtype, device=device)\n",
    "\n",
    "# pipe.load_lora_weights(\"nerijs/pixel-art-xl\", weight_name=\"pixel-art-xl.safetensors\", adapter_name=\"pixel\")\n",
    "# pipe.set_adapters(\"pixel\")\n",
    "\n",
    "pipe.load_lora_weights(\"alvdansen/midsommarcartoon\", adapter_name=\"cartoon\")\n",
    "pipe.set_adapters(\"cartoon\")\n",
    "\n",
    "\n",
    "pipe.to(device, weights_dtype)\n",
    "print('loaded model')\n"
   ]
  },
  {
   "cell_type": "code",
   "execution_count": null,
   "id": "62e5b7cf-d1d5-4229-a26b-4eca38233789",
   "metadata": {},
   "outputs": [],
   "source": [
    "# pipe.enable_lora()\n",
    "lora_scale = 1\n",
    "prompt = \"a girl with blonde-brown hair and big round glasses, blue eyes, white t shirt, jeans\"\n",
    "image = pipe(prompt, negative_prompt='ugly, messy, bad, photo', num_inference_steps=4, guidance_scale=0, cross_attention_kwargs={\"scale\": lora_scale})[0]\n",
    "image"
   ]
  },
  {
   "cell_type": "code",
   "execution_count": null,
   "id": "cd9ec1af-ff05-433e-96d0-7da9998900ae",
   "metadata": {},
   "outputs": [],
   "source": []
  }
 ],
 "metadata": {
  "kernelspec": {
   "display_name": "Python 3 (ipykernel)",
   "language": "python",
   "name": "python3"
  },
  "language_info": {
   "codemirror_mode": {
    "name": "ipython",
    "version": 3
   },
   "file_extension": ".py",
   "mimetype": "text/x-python",
   "name": "python",
   "nbconvert_exporter": "python",
   "pygments_lexer": "ipython3",
   "version": "3.10.13"
  }
 },
 "nbformat": 4,
 "nbformat_minor": 5
}
